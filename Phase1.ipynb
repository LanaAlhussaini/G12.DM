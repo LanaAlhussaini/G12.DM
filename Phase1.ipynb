{
  "nbformat": 4,
  "nbformat_minor": 0,
  "metadata": {
    "colab": {
      "provenance": [],
      "toc_visible": true,
      "include_colab_link": true
    },
    "kernelspec": {
      "name": "python3",
      "display_name": "Python 3"
    },
    "language_info": {
      "name": "python"
    }
  },
  "cells": [
    {
      "cell_type": "markdown",
      "metadata": {
        "id": "view-in-github",
        "colab_type": "text"
      },
      "source": [
        "<a href=\"https://colab.research.google.com/github/LanaAlhussaini/G6.DM/blob/main/Phase1.ipynb\" target=\"_parent\"><img src=\"https://colab.research.google.com/assets/colab-badge.svg\" alt=\"Open In Colab\"/></a>"
      ]
    },
    {
      "cell_type": "markdown",
      "source": [
        "# Project Goal\n",
        "To address the problem, we will apply two core data mining approaches: classification and clustering.\n",
        "\n",
        "-Classification: Build predictive models to categorize students into stress levels (Low, Moderate, High) using features related to psychological state, academic workload, social interactions, environment, and physiological indicators.\n",
        "\n",
        "-Clustering: Group students with similar profiles to uncover hidden patterns, such as students mainly stressed by academic pressure versus those affected by social or environmental conditions. This will provide insights into different stress profiles and support the development of more targeted coping strategies.\n",
        "\n",
        "\n",
        "---\n",
        "\n"
      ],
      "metadata": {
        "id": "wGFhJrrhA7RB"
      }
    },
    {
      "cell_type": "markdown",
      "source": [
        "# Dataset Source\n",
        "The dataset was obtained from [Kaggle](https://www.kaggle.com/datasets/mdsultanulislamovi/student-stress-monitoring-datasets).\n",
        "\n",
        "---\n",
        "\n"
      ],
      "metadata": {
        "id": "7HBlTyUnBIN-"
      }
    },
    {
      "cell_type": "markdown",
      "source": [
        "# Dataset Description\n",
        "-Number of records : 1100\n",
        "\n",
        "-Number of attributes: 21\n",
        "\n",
        "-Data types: All attributes are numeric (int64),     with one binary categorical attribute ('mental_health_history;).\n",
        "\n",
        "-Class label: 'strees_level' with 3 classes:\n",
        "\n",
        "   --class 0 --> 373 records\n",
        "\n",
        "   --class 1 --> 358 records\n",
        "\n",
        "   --class 2 --> 369 records\n",
        "\n",
        "-The dataset is complete ( no missing values)."
      ],
      "metadata": {
        "id": "mp07EMWgBV6r"
      }
    }
  ]
}